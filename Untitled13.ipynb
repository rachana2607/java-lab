{
  "nbformat": 4,
  "nbformat_minor": 0,
  "metadata": {
    "colab": {
      "provenance": [],
      "authorship_tag": "ABX9TyPEeecYDnQgZ1H8/xXXRFr8",
      "include_colab_link": true
    },
    "kernelspec": {
      "name": "python3",
      "display_name": "Python 3"
    },
    "language_info": {
      "name": "python"
    }
  },
  "cells": [
    {
      "cell_type": "markdown",
      "metadata": {
        "id": "view-in-github",
        "colab_type": "text"
      },
      "source": [
        "<a href=\"https://colab.research.google.com/github/rachana2607/java-lab/blob/main/Untitled13.ipynb\" target=\"_parent\"><img src=\"https://colab.research.google.com/assets/colab-badge.svg\" alt=\"Open In Colab\"/></a>"
      ]
    },
    {
      "cell_type": "code",
      "execution_count": 5,
      "metadata": {
        "colab": {
          "base_uri": "https://localhost:8080/"
        },
        "id": "e-b1F5yHwaXf",
        "outputId": "29ab1d58-ce60-49d9-b6ac-e92532bb99e0"
      },
      "outputs": [
        {
          "output_type": "stream",
          "name": "stdout",
          "text": [
            "Array before the Insertion Sort : [40, 30, 50, 10, 20]\n",
            "Array after the Insertion Sort : [10, 20, 30, 40, 50]\n"
          ]
        }
      ],
      "source": [
        "\n",
        "def insertion_sort(array):\n",
        "    for i in range(1, len(array)):\n",
        "        j = i\n",
        "        while j > 0 and array[j-1] > array[j]:\n",
        "            array[j], array[j-1] = array[j-1], array[j]\n",
        "            j = j - 1\n",
        "    return array\n",
        "array = [40, 30, 50, 10, 20]\n",
        "print(\"Array before the Insertion Sort :\", array)\n",
        "sorted_array = insertion_sort(array)\n",
        "print(\"Array after the Insertion Sort :\", sorted_array)"
      ]
    },
    {
      "cell_type": "code",
      "source": [
        "def bubble_sort(arr):\n",
        "    n = len(arr)\n",
        "    for i in range(n):\n",
        "        for j in range(0, n-i-1):\n",
        "            if arr[j] > arr[j+1]:\n",
        "                arr[j], arr[j+1] = arr[j+1], arr[j]\n",
        "    return arr\n",
        "arr = [64, 34, 25, 12, 22, 11, 90]\n",
        "print(\"Before sorting: \", arr)\n",
        "arr = bubble_sort(arr)\n",
        "print(\"After sorting: \", arr)"
      ],
      "metadata": {
        "colab": {
          "base_uri": "https://localhost:8080/"
        },
        "id": "eyORDBaIz6La",
        "outputId": "0b733920-22b1-44ea-d12b-d8b3ba5134b9"
      },
      "execution_count": 8,
      "outputs": [
        {
          "output_type": "stream",
          "name": "stdout",
          "text": [
            "Before sorting:  [64, 34, 25, 12, 22, 11, 90]\n",
            "After sorting:  [11, 12, 22, 25, 34, 64, 90]\n"
          ]
        }
      ]
    },
    {
      "cell_type": "code",
      "source": [
        "def partition(array, low, high):\n",
        "\tpivot = array[high]\n",
        "\ti = low - 1\n",
        "\tfor j in range(low, high):\n",
        "\t\tif array[j] <= pivot:\n",
        "\t\t\ti = i + 1\n",
        "\t\t\t(array[i], array[j]) = (array[j], array[i])\n",
        "\t(array[i + 1], array[high]) = (array[high], array[i + 1])\n",
        "\treturn i + 1\n",
        "def quickSort(array, low, high):\n",
        "\tif low < high:\n",
        "\t\tpi = partition(array, low, high)\n",
        "\t\tquickSort(array, low, pi - 1)\n",
        "\t\tquickSort(array, pi + 1, high)\n",
        "data = [1, 7, 4, 1, 10, 9, -2]\n",
        "print(\"Unsorted Array\")\n",
        "print(data)\n",
        "size = len(data)\n",
        "quickSort(data, 0, size - 1)\n",
        "print('Sorted Array in Ascending Order:')\n",
        "print(data)"
      ],
      "metadata": {
        "colab": {
          "base_uri": "https://localhost:8080/"
        },
        "id": "7Zgg4TZI2UJD",
        "outputId": "32f15637-4ea1-4a3f-e40b-bd537198c6ba"
      },
      "execution_count": 13,
      "outputs": [
        {
          "output_type": "stream",
          "name": "stdout",
          "text": [
            "Unsorted Array\n",
            "[1, 7, 4, 1, 10, 9, -2]\n",
            "Sorted Array in Ascending Order:\n",
            "[-2, 1, 1, 4, 7, 9, 10]\n"
          ]
        }
      ]
    },
    {
      "cell_type": "code",
      "source": [
        "def merge(arr, l, m, r):\n",
        "\tn1 = m - l + 1\n",
        "\tn2 = r - m\n",
        "\n",
        "\n",
        "\tL = [0] * (n1)\n",
        "\tR = [0] * (n2)\n",
        "\n",
        "\n",
        "\tfor i in range(0, n1):\n",
        "\t\tL[i] = arr[l + i]\n",
        "\n",
        "\tfor j in range(0, n2):\n",
        "\t\tR[j] = arr[m + 1 + j]\n",
        "\n",
        "\n",
        "\ti = 0\n",
        "\tj = 0\n",
        "\tk = l\n",
        "\n",
        "\twhile i < n1 and j < n2:\n",
        "\t\tif L[i] <= R[j]:\n",
        "\t\t\tarr[k] = L[i]\n",
        "\t\t\ti += 1\n",
        "\t\telse:\n",
        "\t\t\tarr[k] = R[j]\n",
        "\t\t\tj += 1\n",
        "\t\tk += 1\n",
        "\n",
        "\n",
        "\twhile i < n1:\n",
        "\t\tarr[k] = L[i]\n",
        "\t\ti += 1\n",
        "\t\tk += 1\n",
        "\n",
        "\n",
        "\twhile j < n2:\n",
        "\t\tarr[k] = R[j]\n",
        "\t\tj += 1\n",
        "\t\tk += 1\n",
        "\n",
        "\n",
        "\n",
        "\n",
        "def mergeSort(arr, l, r):\n",
        "\tif l < r:\n",
        "\n",
        "\n",
        "\t\tm = l+(r-l)//2\n",
        "\n",
        "\n",
        "\t\tmergeSort(arr, l, m)\n",
        "\t\tmergeSort(arr, m+1, r)\n",
        "\t\tmerge(arr, l, m, r)\n",
        "\n",
        "\n",
        "\n",
        "arr = [12, 11, 13, 5, 6, 7]\n",
        "n = len(arr)\n",
        "print(\"Given array is\")\n",
        "for i in range(n):\n",
        "\tprint(\"%d\" % arr[i],end=\" \")\n",
        "\n",
        "mergeSort(arr, 0, n-1)\n",
        "print(\"\\n\\nSorted array is\")\n",
        "for i in range(n):\n",
        "\tprint(\"%d\" % arr[i],end=\" \")\n",
        "\n"
      ],
      "metadata": {
        "colab": {
          "base_uri": "https://localhost:8080/"
        },
        "id": "NCUOnRUt6b6F",
        "outputId": "f4c95348-4466-4085-cb6c-58b254fb3a02"
      },
      "execution_count": 22,
      "outputs": [
        {
          "output_type": "stream",
          "name": "stdout",
          "text": [
            "Given array is\n",
            "12 11 13 5 6 7 \n",
            "\n",
            "Sorted array is\n",
            "5 6 7 11 12 13 "
          ]
        }
      ]
    },
    {
      "cell_type": "code",
      "source": [
        "def linear_Search(list1, n, key):\n",
        "\n",
        "    # Searching list1 sequentially\n",
        "    for i in range(0, n):\n",
        "        if (list1[i] == key):\n",
        "            return i\n",
        "    return -1\n",
        "\n",
        "\n",
        "list1 = [1 ,3, 5, 4, 7, 9]\n",
        "key = 7\n",
        "\n",
        "n = len(list1)\n",
        "res = linear_Search(list1, n, key)\n",
        "if(res == -1):\n",
        "    print(\"Element not found\")\n",
        "else:\n",
        "    print(\"Element found at index: \", res)"
      ],
      "metadata": {
        "colab": {
          "base_uri": "https://localhost:8080/"
        },
        "id": "djBYqO19_e7x",
        "outputId": "42c9b3cd-5039-4589-d5d9-543107069212"
      },
      "execution_count": 23,
      "outputs": [
        {
          "output_type": "stream",
          "name": "stdout",
          "text": [
            "Element found at index:  4\n"
          ]
        }
      ]
    },
    {
      "cell_type": "code",
      "source": [
        "def binary_search(arr,start,end,target):\n",
        "    mid = (start+end)//2\n",
        "    if start > end:\n",
        "        return -1\n",
        "    if arr[mid] < target:\n",
        "        return binary_search(arr, mid+1, end, target)\n",
        "    elif arr[mid] > target:\n",
        "        return binary_search(arr, start, mid-1, target)\n",
        "    elif arr[mid] == target:\n",
        "        return mid\n",
        "\n",
        "\n",
        "arr = [20,30,40,60,80,90]\n",
        "ans = binary_search(arr,0,len(arr)-1 ,20)\n",
        "if ans  == -1:\n",
        "    print(\"Target Not Found\")\n",
        "else:\n",
        "    print(\"Target found at index\",ans)"
      ],
      "metadata": {
        "colab": {
          "base_uri": "https://localhost:8080/"
        },
        "id": "HfnBMAZNAk1-",
        "outputId": "0e29715f-890b-4c54-985f-2b62db665b92"
      },
      "execution_count": 24,
      "outputs": [
        {
          "output_type": "stream",
          "name": "stdout",
          "text": [
            "Target found at index 0\n"
          ]
        }
      ]
    }
  ]
}